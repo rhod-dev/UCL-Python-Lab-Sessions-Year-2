{
 "cells": [
  {
   "cell_type": "markdown",
   "metadata": {},
   "source": [
    "# Session 4: Fitting to arbitrary functions"
   ]
  },
  {
   "cell_type": "markdown",
   "metadata": {},
   "source": [
    "<div class=\"alert alert-success\"> <p>*  **Intended learning outcomes:** * </p>\n",
    "By the end of this session, you should be able to:\n",
    "<ul>\n",
    "<li> fit data to any arbitrary function using scipy.optimize.curve_fit; </li>\n",
    "<li> quantitatively evaluate the goodness of fit;  </li>\n",
    "<li> reach physical conclusions based on these results. </li>\n",
    "</div>"
   ]
  },
  {
   "cell_type": "markdown",
   "metadata": {},
   "source": [
    "We've already seen how to fit histograms to a Gaussian, and how to use a polynomial to fit a set of data. The last thing we're going to do in this Data Analysis part of the course is to see how to perform a fit to an arbitrary function. "
   ]
  },
  {
   "cell_type": "markdown",
   "metadata": {},
   "source": [
    "In these examples, we'll be looking at whether a Lorentzian or Gaussian functions provide a better fit to some optical lineshape data. However, you can use the same method to fit *any* function, provided you can write a suitable Python function to describe your target \"fit\" function."
   ]
  },
  {
   "cell_type": "markdown",
   "metadata": {},
   "source": [
    "### Context for this example"
   ]
  },
  {
   "cell_type": "markdown",
   "metadata": {},
   "source": [
    "The data we'll use for this session is taken from the Lab 3 Zeeman effect experiment, which some of you will do yourselves in PHAS3440. \n",
    "\n",
    "The Zeeman effect occurs when a spectral line is split into different components by a magnetic field. The physics of the Zeeman effect will be covered in detail in PHAS2224 \"Atomic and Molecular Physics\".\n",
    "\n",
    "The Lab 3 experiment examines how the lines in the emission spectrum of a mercury discharge lamp split under a magnetic field. The student records the spectrum using a CCD camera, which yields data in the form of recorded intensity (in counts per second) vs pixel position (in pixels). \n",
    "\n",
    "We're not going to be considering the *positions* of the spectral lines in this task, instead we're going to be looking at the *lineshapes*. Rather than a spectral line with a single energy, the line is broadened into a wider peak by various physical effects. For example, the uncertainty principle leads to broadening which has a Lorentzian form, while there will also be thermal broadening effects, which are Gaussian in nature (there are also several other sources of broadening, with different effects). In theory, for this experiment, Lorentzian broadening is expected to dominate.\n",
    "\n",
    "In this task we will look at an experimental spectral line recorded by a student in the Lab 3 experiment, fit it to both a Gaussian and Lorentzian, and determine which provides a better fit."
   ]
  },
  {
   "cell_type": "markdown",
   "metadata": {},
   "source": [
    "### Getting started with the code"
   ]
  },
  {
   "cell_type": "markdown",
   "metadata": {},
   "source": [
    "First, we'll import the modules we will need. The new function we import in the cell below comes from the scipy.optimize library - more on this later, when we come to use it. "
   ]
  },
  {
   "cell_type": "code",
   "execution_count": 1,
   "metadata": {},
   "outputs": [],
   "source": [
    "import numpy as np\n",
    "import matplotlib.pyplot as plt\n",
    "import scipy.stats as stats\n",
    "from scipy.optimize import curve_fit # we're importing just this one function from scipy.optimize\n",
    "%matplotlib inline"
   ]
  },
  {
   "cell_type": "markdown",
   "metadata": {},
   "source": [
    "Now we can import the csv (Comma Separated Value) file with the data the student collected, and plot it. You will need to download this file from Moodle, and as usual, put it in the same directory as this notebook."
   ]
  },
  {
   "cell_type": "code",
   "execution_count": 2,
   "metadata": {},
   "outputs": [
    {
     "data": {
      "text/plain": [
       "<matplotlib.text.Text at 0x8557748>"
      ]
     },
     "execution_count": 2,
     "metadata": {},
     "output_type": "execute_result"
    },
    {
     "data": {
      "image/png": "[encoded data removed]",
      "text/plain": [
       "<matplotlib.figure.Figure at 0x84f4f28>"
      ]
     },
     "metadata": {},
     "output_type": "display_data"
    }
   ],
   "source": [
    "xdata,ydata = np.loadtxt('Zeeman_data.csv',delimiter=\",\",unpack=True)\n",
    "plt.plot(xdata,ydata, 'bo')\n",
    "plt.xlabel(\"Pixel position\")\n",
    "plt.ylabel(\"Pixel value (counts/second)\")\n",
    "plt.title(\"Data from Zeeman effect experiment\")"
   ]
  },
  {
   "cell_type": "markdown",
   "metadata": {},
   "source": [
    "We can see that we have a single peak with a constant background level. It looks feasible to attempt fitting this to a Gaussian.\n",
    "\n",
    "\n",
    "In order to use curve_fit to fit this to a Gaussian, we need to write a \"target\" function to fit to, which in this case will be\n",
    "\n",
    "\n",
    "$$\n",
    "f(x) = y_0 + h \\exp \\left(\\frac{-(x-x_0)^2}{2 \\sigma^2}\\right)\n",
    "$$\n",
    "\n",
    "(This is a slightly different definition than the one we used when we were fitting histograms to Gaussians in Session 2. Can you see why?)\n",
    "\n",
    "The parameters for our Gaussian fit will be the mean value (`x0`), the standard deviation (`sigma`), the background value `y0` and the peak height, `h`. Here is a function that will do exactly this."
   ]
  },
  {
   "cell_type": "code",
   "execution_count": 3,
   "metadata": {},
   "outputs": [],
   "source": [
    "def gaussian(x,x0,sigma, y0, h):\n",
    "    '''Returns a 1D array of function values for \n",
    "    - input array of x-values: x\n",
    "    - mean value of distribution: x0\n",
    "    - standard deviation of distribution: sigma\n",
    "    - background value y0\n",
    "    - peak height, h (measured from background level y0'''\n",
    "    gauss = h * np.exp(-(x-x0)**2/(2*sigma**2)) + y0 # the gaussian itself\n",
    "    return gauss"
   ]
  },
  {
   "cell_type": "markdown",
   "metadata": {},
   "source": [
    "The three parameters, x0, y0 and sigma, are (as yet) unknown. To find them, we use the scipy.optimize.curve_fit function. The full documentation for this is here: http://docs.scipy.org/doc/scipy/reference/generated/scipy.optimize.curve_fit.html#scipy.optimize.curve_fit\n",
    "\n",
    "We're going to do this in the simplest way possible for the moment, by just sending curve_fit the target function (our \"gaussian\" function), the independent variable (xdata) and the dependent variable (ydata). We can also, optionally, choose to send an initial guess of the parameters, as well as weightings for each of the ydata data points, but for the moment we won't do that.\n",
    "\n",
    "The curve_fit routine returns two arrays. \n",
    " * The first of these is an array of the fitted parameters - in our case this array will have four elements, as we have four parameters, x0, sigma, y0, and h.\n",
    " * The second is the matrix of covariance - an indication of the goodness of fit. We covered this in Session 3 when we were doing polynomial fitting.\n",
    " \n",
    " Let's do this, and see what results we get back:"
   ]
  },
  {
   "cell_type": "code",
   "execution_count": 4,
   "metadata": {},
   "outputs": [
    {
     "name": "stdout",
     "output_type": "stream",
     "text": [
      "popt :\n",
      " [ 1.          1.          5.30499999  1.        ]\n",
      "pcov :\n",
      " [[ inf  inf  inf  inf]\n",
      " [ inf  inf  inf  inf]\n",
      " [ inf  inf  inf  inf]\n",
      " [ inf  inf  inf  inf]]\n"
     ]
    },
    {
     "name": "stderr",
     "output_type": "stream",
     "text": [
      "Q:\\Ancond41.126\\VFS\\Anaconda3\\lib\\site-packages\\scipy\\optimize\\minpack.py:690: OptimizeWarning: Covariance of the parameters could not be estimated\n",
      "  category=OptimizeWarning)\n"
     ]
    }
   ],
   "source": [
    "#popt: Optimized parameters\n",
    "#pcov: matrix of covariance.\n",
    "popt,pcov = curve_fit(gaussian,xdata,ydata)\n",
    "\n",
    "print (\"popt :\\n\", popt)\n",
    "print (\"pcov :\\n\", pcov)"
   ]
  },
  {
   "cell_type": "markdown",
   "metadata": {},
   "source": [
    "We can see that this hasn't worked so well - curve_fit hasn't been able to find a fit to the data.\n",
    "\n",
    "Instead, we'll try to make life easier for curve_fit by giving an initial guess for the parameters. From looking at the plot of the data, we can see that the peak is at around $x=75$, and the background around $y=3.5$. We'll try a value of 10 for $\\sigma$. These values need to be given in the form of a python list of numbers, in the same order as parameters are given to our \"gaussian\" function. Remember - in Python we use `[` square brackets `]` to define a list, with the elements separated by commas."
   ]
  },
  {
   "cell_type": "code",
   "execution_count": 5,
   "metadata": {},
   "outputs": [
    {
     "name": "stdout",
     "output_type": "stream",
     "text": [
      "The variable 'guess' is a  <class 'list'>\n"
     ]
    }
   ],
   "source": [
    "guess = [75,10,3.5,18] # list of initial guess parameters\n",
    "# what type of object does the variable \"guess\" represent?\n",
    "print (\"The variable 'guess' is a \", type(guess) )"
   ]
  },
  {
   "cell_type": "markdown",
   "metadata": {},
   "source": [
    "Now we can retry the fit:"
   ]
  },
  {
   "cell_type": "code",
   "execution_count": 6,
   "metadata": {},
   "outputs": [
    {
     "name": "stdout",
     "output_type": "stream",
     "text": [
      "popt :\n",
      " [ 72.50930905   3.01525268   3.85742572  13.40680375]\n",
      "pcov :\n",
      " [[  2.02507205e-03  -3.74999230e-10   4.61324597e-12   1.63272286e-09]\n",
      " [ -3.74999230e-10   2.22561783e-03  -6.30519907e-04  -4.05620889e-03]\n",
      " [  4.61324597e-12  -6.30519907e-04   1.98236679e-03  -1.40174504e-03]\n",
      " [  1.63272286e-09  -4.05620889e-03  -1.40174504e-03   3.10175059e-02]]\n"
     ]
    }
   ],
   "source": [
    "popt,pcov = curve_fit(gaussian,xdata,ydata,p0=guess)\n",
    "print (\"popt :\\n\", popt)\n",
    "print (\"pcov :\\n\", pcov)"
   ]
  },
  {
   "cell_type": "markdown",
   "metadata": {},
   "source": [
    "This has worked (or it should have done)! We can use the information from the matrix of covariance to calculate the error on each parameter, just as we did in the previous session for the polynomial coefficients. Remember, the error on the parameters are given by the *square roots* of the diagonal elements of the matrix of covariance."
   ]
  },
  {
   "cell_type": "markdown",
   "metadata": {},
   "source": [
    "\n",
    "**A python aside / hint: ** When dealing with an array like `popt` that contains numbers each representing different variables, it's sometimes useful to be able to \"unpack\" the array into different variables - we've already seen examples of this in the code cell above and in the second code cell when unpacking the data from the file. To unpack `popt`, we could use a line of code like:\n",
    "\n",
    "           x0_fit, sigma_fit, y0_fit, h_fit = popt\n",
    "\n",
    "If we wanted to then calculate the fitted line at a given x-value (in this case at x = 65), we could then use something like:\n",
    "        \n",
    "           fitted_point = gaussian(65, x0_fit, sigma_fit, y0_fit, h_fit)\n",
    "           \n",
    "or, if we don't want/need to assign individual variable names to the elements of `popt` (or whichever array we are dealing with), we could use:\n",
    "\n",
    "           fitted_point = gaussian(65, popt[0], popt[1], popt[2], popt[3])\n",
    "           \n",
    "This is a bit unwieldy though, so sometimes it's useful to be able to unpack the array automatically when calling a function by using \\* syntax, like this:\n",
    "\n",
    "           fitted_point = gaussian(65, *popt)\n",
    "This is much easier to deal with! You can find a fuller discussion of this in [Hill: Learning Scientific Programming with Python](http://sfx.ucl.ac.uk/sfx_local?ctx_ver=Z39.88-2004&ctx_enc=info:ofi/enc:UTF-8&ctx_tim=2016-07-18T13%3A15%3A47IST&url_ver=Z39.88-2004&url_ctx_fmt=infofi/fmt:kev:mtx:ctx&rfr_id=info:sid/primo.exlibrisgroup.com:primo3-Journal-UCL_LMS_DS&rft_val_fmt=info:ofi/fmt:kev:mtx:book&rft.genre=book&rft.atitle=&rft.jtitle=&rft.btitle=Learning%20scientific%20programming%20with%20Python&rft.aulast=Hill&rft.auinit=&rft.auinit1=&rft.auinitm=&rft.ausuffix=&rft.au=Hill,%20Christian,%201974-,%20author&rft.aucorp=&rft.volume=&rft.issue=&rft.part=&rft.quarter=&rft.ssn=&rft.spage=&rft.epage=&rft.pages=&rft.artnum=&rft.issn=&rft.eissn=&rft.isbn=9781107075412&rft.sici=&rft.coden=&rft_id=info:doi/&rft.object_id=&rft.856_url=&rft_dat=%3CUCL_LMS_DS%3E002240476%3C/UCL_LMS_DS%3E&rft.eisbn=&rft_id=info:oai/&req.language=eng) section 2.4.3 (page 49).\n",
    "\n",
    "The code cell below demonstrates that the two methods do give identical results:"
   ]
  },
  {
   "cell_type": "code",
   "execution_count": 7,
   "metadata": {},
   "outputs": [
    {
     "name": "stdout",
     "output_type": "stream",
     "text": [
      "At x = 65 our fitted Gaussian has a value of:  4.46069838834\n",
      "Calculating the same value using * syntax:     4.46069838834\n",
      "Both give the same result!\n"
     ]
    }
   ],
   "source": [
    "# specifying the elements by hand:\n",
    "print(\"At x = 65 our fitted Gaussian has a value of: \", gaussian(65, popt[0], popt[1], popt[2], popt[3]))\n",
    "\n",
    "# use *syntax to unpack the elements of popt automatically:\n",
    "print(\"Calculating the same value using * syntax:    \", gaussian(65,*popt)) \n",
    "print(\"Both give the same result!\")"
   ]
  },
  {
   "cell_type": "markdown",
   "metadata": {},
   "source": [
    "<div class=\"alert alert-success\"> \n",
    "In the cell below, you should:\n",
    "<ul>\n",
    "<li> calculate the errors on the parameters </li>\n",
    "<li>output each parameter with its error and an appropriate text string </li>\n",
    "<li>plot the original data and the fitted line on a single, appropriately labelled graph </li>\n",
    "</ul>\n",
    "</div>"
   ]
  },
  {
   "cell_type": "code",
   "execution_count": 8,
   "metadata": {},
   "outputs": [
    {
     "name": "stdout",
     "output_type": "stream",
     "text": [
      "coefficient order x^ 3  is  72.5093090483  with error  0.0450008005874\n",
      "coefficient order x^ 2  is  3.01525267542  with error  0.0471764541779\n",
      "coefficient order x^ 1  is  3.85742572021  with error  0.0445237778051\n",
      "coefficient order x^ 0  is  13.4068037547  with error  0.176117874902\n"
     ]
    }
   ],
   "source": [
    "### STUDENT COMPLETED CELL ###\n",
    "for i in range(np.size(popt)):\n",
    "    print(\"coefficient order x^\", len(popt)-i-1, \" is \", popt[i], \" with error \", np.diag(pcov)[i]**0.5)"
   ]
  },
  {
   "cell_type": "markdown",
   "metadata": {},
   "source": [
    "If you've done this correctly, you should obtain a good fit to the data.\n",
    "\n",
    "In theory we'd expect a Lorentzian to produce a better fit for this data. Now you're going to try this out and see if this is what we find for this particular data set!\n",
    "\n",
    "The appropriate form for this is \n",
    "$$\n",
    "f(x) = y_0 + \\frac{h}{1 + ((x - x_0)/b)^2}\n",
    "$$\n",
    "where $y_0$ is the background level, $x_0$ is the peak position and $b$ is the half-width at half-maximum (HWHM) of the peak."
   ]
  },
  {
   "cell_type": "markdown",
   "metadata": {},
   "source": [
    "<div class=\"alert alert-success\"> \n",
    "First, write a properly formatted python function, similar in form to the \"gaussian\" function above, that will return a Lorentzian function for these parameters.\n",
    "</div>"
   ]
  },
  {
   "cell_type": "code",
   "execution_count": 9,
   "metadata": {},
   "outputs": [],
   "source": [
    "### STUDENT COMPLETED CELL ###\n",
    "def lorentzian(x,x0, y0, b, h):\n",
    "    '''Returns the Lorentzian function for inputs:\n",
    "    - input array of x-values: x\n",
    "    - mean value of distribution: x0\n",
    "    - background value y0\n",
    "    - peak height, h (measured from background level y0)'''\n",
    "    fx = y0 + h/(1+(x/b-x0/b)**2)\n",
    "    return fx"
   ]
  },
  {
   "cell_type": "markdown",
   "metadata": {},
   "source": [
    "<div class=\"alert alert-success\"> \n",
    "Now provide an initial guess for these parameters, and use curve_fit to calculate the best Lorentzian fit for this data. Output the calculated parameters and the matrix of covariance, just like we did for the Gaussian fit.\n",
    "</div>"
   ]
  },
  {
   "cell_type": "code",
   "execution_count": 10,
   "metadata": {},
   "outputs": [
    {
     "name": "stdout",
     "output_type": "stream",
     "text": [
      "popt :\n",
      " [ 72.48067296   3.36145906   3.08299492  14.88520192]\n",
      "pcov :\n",
      " [[  3.41528812e-03  -3.26724763e-06   1.97153356e-06   1.19664144e-06]\n",
      " [ -3.26724763e-06   4.90695457e-03  -3.39317452e-03  -1.07971959e-03]\n",
      " [  1.97153356e-06  -3.39317452e-03   9.19549084e-03  -1.57727724e-02]\n",
      " [  1.19664144e-06  -1.07971959e-03  -1.57727724e-02   7.98995660e-02]]\n"
     ]
    }
   ],
   "source": [
    "### STUDENT COMPLETED CELL ###\n",
    "x0, y0, b, h = 75.0, 3.5, 10.0, 75.0\n",
    "guess_lorentzian = [x0,y0, b, h]\n",
    "popt,pcov = curve_fit(lorentzian,xdata,ydata,p0=guess_lorentzian)\n",
    "print (\"popt :\\n\", popt)\n",
    "print (\"pcov :\\n\", pcov)"
   ]
  },
  {
   "cell_type": "markdown",
   "metadata": {},
   "source": [
    "<div class=\"alert alert-success\"> \n",
    "Now use these results to\n",
    "<ul>\n",
    "<li>calculate the error on each parameter</li>\n",
    "<li>output each parameter with its error (and an appropriate text string)</li>\n",
    "<li>plot the data, the fitted Gaussian and the fitted Lorentzian, all on the same labelled graph.</li>\n",
    "</ul>\n",
    "</div>"
   ]
  },
  {
   "cell_type": "code",
   "execution_count": 11,
   "metadata": {},
   "outputs": [
    {
     "name": "stdout",
     "output_type": "stream",
     "text": [
      "For parameter x0,the value is  72.4806729586  with error  0.0584404664685\n",
      "For parameter y0,the value is  3.36145906415  with error  0.0700496579038\n",
      "For parameter b,the value is  3.08299492115  with error  0.0958931219605\n",
      "For parameter h,the value is  14.8852019227  with error  0.282665112815\n"
     ]
    }
   ],
   "source": [
    "### STUDENT COMPLETED CELL ###\n",
    "print(\"For parameter x0,the value is \", popt[0], \" with error \", np.diag(pcov)[0]**0.5)\n",
    "print(\"For parameter y0,the value is \", popt[1], \" with error \", np.diag(pcov)[1]**0.5)\n",
    "print(\"For parameter b,the value is \", popt[2], \" with error \", np.diag(pcov)[2]**0.5)\n",
    "print(\"For parameter h,the value is \", popt[3], \" with error \", np.diag(pcov)[3]**0.5)"
   ]
  },
  {
   "cell_type": "code",
   "execution_count": 17,
   "metadata": {},
   "outputs": [
    {
     "data": {
      "text/plain": [
       "<matplotlib.text.Text at 0x22a4b38>"
      ]
     },
     "execution_count": 17,
     "metadata": {},
     "output_type": "execute_result"
    },
    {
     "data": {
      "image/png": "[encoded data removed]",
      "text/plain": [
       "<matplotlib.figure.Figure at 0x8ae2630>"
      ]
     },
     "metadata": {},
     "output_type": "display_data"
    }
   ],
   "source": [
    "x_dummy = np.linspace(40,110,500)\n",
    "\n",
    "popt_g,pcov_g = curve_fit(gaussian,xdata,ydata,p0=guess)\n",
    "popt_l,pcov_l = curve_fit(lorentzian,xdata,ydata,p0=guess_lorentzian)\n",
    "\n",
    "\n",
    "plt.plot(xdata,ydata, 'b+', label=\"experimental data\")\n",
    "plt.plot(x_dummy,gaussian(x_dummy,*popt_g),'r-', label=\"guassian plot\")\n",
    "plt.plot(x_dummy,lorentzian(x_dummy,*popt_l), 'g-', label=\"lorentzian plot\")\n",
    "plt.xlabel(\"Pixel position\")\n",
    "plt.ylabel(\"Pixel value (counts/second)\")\n",
    "plt.legend(loc=0)\n",
    "plt.title(\"Data from Zeeman effect experiment\")"
   ]
  },
  {
   "cell_type": "markdown",
   "metadata": {},
   "source": [
    "### Evaluating the goodness of fit\n",
    "\n",
    "So now we have two potential fits to our data. Looking at them, it's hard to tell which one provides the better fit. We can do this quantitatively by calculating $\\chi^2$ for each fit, in the same way as we did in the previous session. \n",
    "\n",
    "We'll also need to know the y-error on the data points for this - which for this experiment were estimated to be $\\pm 1$ counts/second."
   ]
  },
  {
   "cell_type": "markdown",
   "metadata": {},
   "source": [
    "#### 1. Gaussian.\n",
    "\n",
    "First we'll look at the Gaussian fit. \n",
    "\n",
    "<div class=\"alert alert-success\"> \n",
    "In the cell below, \n",
    "<ul>\n",
    "<li>calculate the residuals divided by the y-error</li>\n",
    "<li>calculate the number of degrees of freedom</li>\n",
    "<li>hence calculate $\\chi^2$ for the Gaussian fit.</li>\n",
    "</ul>\n",
    "(Refer back to the previous session if you need a reminder of any of the definitions)\n",
    "</div>\n"
   ]
  },
  {
   "cell_type": "code",
   "execution_count": 13,
   "metadata": {},
   "outputs": [
    {
     "name": "stdout",
     "output_type": "stream",
     "text": [
      "The residuals are: [  2.17425720e-01   4.07425720e-01   3.57425720e-01   2.67425720e-01\n",
      "   3.07425720e-01   4.47425720e-01   2.67425720e-01  -2.32574280e-01\n",
      "   1.77425720e-01  -1.42574280e-01  -9.25742797e-02  -1.92574279e-01\n",
      "  -2.82574269e-01  -5.25741917e-02  -1.42573641e-01  -9.25701344e-02\n",
      "  -2.32550164e-01  -5.24485997e-02   3.80124833e-02  -1.20185692e-04\n",
      "   6.62071869e-03  -2.01710854e-01  -1.89769869e-01   1.74171524e-02\n",
      "   2.30698388e-01   7.15956825e-02   3.33154749e-01   5.59415262e-01\n",
      "   1.18065904e-01  -3.39775070e-01  -4.04414244e-01  -6.56668665e-02\n",
      "  -1.82127135e-01   2.21974201e-01   4.38896638e-01   4.87055192e-01\n",
      "   4.99823915e-02  -5.88237395e-01  -9.10928842e-01  -7.99964725e-01\n",
      "  -5.68193327e-01  -5.47946765e-01  -3.41040045e-01  -1.83160172e-01\n",
      "  -2.30056556e-01  -5.19710692e-02  -9.24448119e-02  -9.25493862e-02\n",
      "  -9.25699919e-02  -1.42573618e-01  -2.32574188e-01  -3.22574268e-01\n",
      "  -2.32574279e-01  -1.92574280e-01  -2.82574280e-01  -1.42574280e-01\n",
      "   8.74257202e-02   3.74257202e-02   3.74257202e-02   1.27425720e-01\n",
      "   1.27425720e-01   1.77425720e-01   4.97425720e-01   4.07425720e-01\n",
      "   4.07425720e-01   4.97425720e-01   1.77425720e-01   5.37425720e-01\n",
      "   3.57425720e-01   4.47425720e-01]\n",
      "There are 66 degres of freedom\n",
      "The value of chi squared is: 0.106981944223\n"
     ]
    }
   ],
   "source": [
    "### STUDENT COMPLETED CELL ###\n",
    "residuals_g = gaussian(xdata,*popt_g) - ydata\n",
    "dof = np.size(xdata) - np.size(popt_g) #degrees of freedom\n",
    "chi_squared_g = np.sum(residuals_g**2/dof)\n",
    "print(\"The residuals are:\",residuals_g)\n",
    "print(\"There are %d degres of freedom\" %dof)\n",
    "print(\"The value of chi squared is:\",chi_squared_g)"
   ]
  },
  {
   "cell_type": "markdown",
   "metadata": {},
   "source": [
    "#### 2. Lorentzian\n",
    "\n",
    "<div class=\"alert alert-success\"> Now do the same for the Lorentzian fit, in the cell below.</div>"
   ]
  },
  {
   "cell_type": "code",
   "execution_count": 14,
   "metadata": {},
   "outputs": [
    {
     "name": "stdout",
     "output_type": "stream",
     "text": [
      "The residuals are: [-0.13713523  0.06219985  0.0224872  -0.05613966 -0.00352307  0.15052418\n",
      " -0.01377429 -0.49614964 -0.06627648 -0.36375805 -0.28810674 -0.35871812\n",
      " -0.41483608 -0.14550518 -0.18950491 -0.08525759 -0.1606972   0.09692036\n",
      "  0.28129701  0.35751259  0.50266928  0.45690088  0.64498807  1.00899448\n",
      "  1.29262949  1.01846477  0.8894131   0.46427064 -0.64450274 -1.2831379\n",
      " -0.63324292  0.75341453  0.56594703 -0.16197421 -0.66330008 -0.40539056\n",
      " -0.14132317 -0.09865072 -0.00807767  0.23365655  0.40508469  0.27454607\n",
      "  0.30889275  0.30640964  0.12253631  0.18728124  0.05363625 -0.02341509\n",
      " -0.08753095 -0.19142475 -0.32714055 -0.45624012 -0.39993218 -0.38916339\n",
      " -0.50468322 -0.387091   -0.17687039 -0.24441506 -0.26004798 -0.18403603\n",
      " -0.19660128 -0.15792969  0.15182211  0.05252143  0.04405532  0.12632708\n",
      " -0.20074638  0.15276319 -0.03320644  0.0512906 ]\n",
      "There are 66 degres of freedom\n",
      "The value of chi squared is: 0.192775564256\n"
     ]
    }
   ],
   "source": [
    "### STUDENT COMPLETED CELL ###\n",
    "residuals_l = lorentzian(xdata,*popt_l) - ydata\n",
    "dof = np.size(xdata) - np.size(popt_l) #degrees of freedom\n",
    "chi_squared_l = np.sum(residuals_l**2/dof)\n",
    "print(\"The residuals are:\",residuals_l)\n",
    "print(\"There are %d degres of freedom\" %dof)\n",
    "print(\"The value of chi squared is:\",chi_squared_l)"
   ]
  },
  {
   "cell_type": "markdown",
   "metadata": {},
   "source": [
    "<div class=\"alert alert-success\">\n",
    "<b> Are these the results you'd expect? Discuss briefly in a text cell.</b>\n",
    "</div>"
   ]
  },
  {
   "cell_type": "markdown",
   "metadata": {},
   "source": [
    "In both cases our $\\chi^2$ value is less than one, which indicates that we need to reevaluate the error in our experiment. Beyond this, the Gaussian plot has a closer fit (since it has a smaller $\\chi^2$ value), which is to be expected since it appears to follow the path of the data more closely. "
   ]
  },
  {
   "cell_type": "markdown",
   "metadata": {},
   "source": [
    "### Analysing the residuals\n",
    "\n",
    "Another way of verifying the validity of our fits is to check the distribution of the residuals, and see if they follow a normal (Gaussian) distribution. Again, follow the same procedure as we did in the previous session and check the distribution of the calculated residuals for both fits. \n",
    "\n",
    "\n",
    "\n",
    "\n",
    "<div class=\"alert alert-success\">\n",
    "Do this in the code cells below. \n",
    "<br>You can copy, paste and edit code from Session 3 if you want, rather than writing this from scratch. \n",
    "<br>Then, use a text cell to discuss (briefly) what you conclude from these results.\n",
    "</div>"
   ]
  },
  {
   "cell_type": "code",
   "execution_count": 15,
   "metadata": {},
   "outputs": [
    {
     "name": "stdout",
     "output_type": "stream",
     "text": [
      "The mean value is  -2.45521850469e-10 and the standard deviation is 0.426332989256\n"
     ]
    },
    {
     "data": {
      "image/png": "[encoded data removed]",
      "text/plain": [
       "<matplotlib.figure.Figure at 0x853b908>"
      ]
     },
     "metadata": {},
     "output_type": "display_data"
    }
   ],
   "source": [
    "### STUDENT COMPLETED CELL ###\n",
    "x = np.linspace(-1.5,1.5,70)\n",
    "x0, sigma = stats.norm.fit(residuals_l)\n",
    "plt.hist(residuals_l,normed=True,alpha=0.25,label=\"residuals\")\n",
    "plt.plot(x,stats.norm.pdf(x,x0,sigma),'r-', label=\"gaussian\")\n",
    "plt.xlabel(\"value\")\n",
    "plt.ylabel(\"number of occurences\")\n",
    "plt.title(\"Distribution of residuals for lorentzian fit\")\n",
    "print(\"The mean value is \",x0,\"and the standard deviation is\", sigma)"
   ]
  },
  {
   "cell_type": "code",
   "execution_count": 16,
   "metadata": {},
   "outputs": [
    {
     "name": "stdout",
     "output_type": "stream",
     "text": [
      "The mean value is  -2.17603877774e-10 and the standard deviation is 0.317598315908\n"
     ]
    },
    {
     "data": {
      "image/png": "[encoded data removed]",
      "text/plain": [
       "<matplotlib.figure.Figure at 0x8a60470>"
      ]
     },
     "metadata": {},
     "output_type": "display_data"
    }
   ],
   "source": [
    "### STUDENT COMPLETED CELL ###\n",
    "x = np.linspace(-1.5,1.5,70)\n",
    "x0, sigma = stats.norm.fit(residuals_g)\n",
    "plt.hist(residuals_g,normed=True,alpha=0.25,label=\"residuals\")\n",
    "plt.plot(x,stats.norm.pdf(x,x0,sigma),'r-', label=\"gaussian\")\n",
    "plt.xlabel(\"value\")\n",
    "plt.ylabel(\"number of occurences\")\n",
    "plt.title(\"Distribution of residuals for gaussian fit\")\n",
    "print(\"The mean value is \",x0,\"and the standard deviation is\", sigma)"
   ]
  },
  {
   "cell_type": "markdown",
   "metadata": {},
   "source": [
    "The Gaussian fit has a smaller standard deviation as well as a smaller $\\chi^2$ value, so is probably a more accurate fit to use to describe this data."
   ]
  },
  {
   "cell_type": "code",
   "execution_count": null,
   "metadata": {
    "collapsed": true
   },
   "outputs": [],
   "source": []
  }
 ],
 "metadata": {
  "anaconda-cloud": {},
  "kernelspec": {
   "display_name": "Python 3",
   "language": "python",
   "name": "python3"
  },
  "language_info": {
   "codemirror_mode": {
    "name": "ipython",
    "version": 3
   },
   "file_extension": ".py",
   "mimetype": "text/x-python",
   "name": "python",
   "nbconvert_exporter": "python",
   "pygments_lexer": "ipython3",
   "version": "3.7.4"
  }
 },
 "nbformat": 4,
 "nbformat_minor": 1
}
