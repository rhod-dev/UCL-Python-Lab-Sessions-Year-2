{
 "cells": [
  {
   "cell_type": "markdown",
   "metadata": {},
   "source": [
    "# Session 3: Fitting polynomials"
   ]
  },
  {
   "cell_type": "markdown",
   "metadata": {},
   "source": [
    "<div class=\"alert alert-success\"> <p>*  **Intended learning outcomes:** * </p>\n",
    "By the end of this session, you should be able to:\n",
    "<ul>\n",
    "<li> Use Python to fit a set of data to a polynomial; </li>\n",
    "<li> To evaluate the goodness of fit using the matrix of covariance and Chi^2</li>\n",
    "<li> Fit the residuals to a Gaussian. </li>\n",
    "</div>"
   ]
  },
  {
   "cell_type": "markdown",
   "metadata": {},
   "source": [
    "## Why fit to a polynomial?\n",
    "\n",
    "In physics we often meet an experimental relation between variables which is difficult to describe mathematically. This may either be because the theoretical equation which describes the observed behaviour is difficult to solve, or because the situation is complicated by several ill-defined factors and it is difficult to derive any theoretical equation which can describe it properly. However, we can still measure the dependence between the variables experimentally and we would like to have some means of predicting this dependence. In this kind of situation it is convenient to fit an equation to our experimental data. We can then use the fitted equation to interpolate, i.e. to calculate the expected value of a variable between our measured data points, and to extrapolate, i.e. to calculate the expected value beyond the range of our measured data points. This procedure is often called “parameterizing” the relationship.\n",
    "\n",
    "In principle we could use any form of equation to fit a set of measured data, but if we have no theoretical basis for fitting a particular type of curve it is often simplest and easiest to fit a polynomial. The order of the polynomial and the coefficients of each term in the fitted equation are called the “parameters” of our fit.\n",
    "\n",
    "In this session we will look at how to fit polynomials with numpy, using experiment E5 as an example. If you are taking PHAS2441 you will be doing this experiment yourself in the second half of term. The experiment involves calibrating a temperature sensor by measuring its output voltage over a range of temperature. A polynomial equation is then fitted to the experimental results and this calibration equation is later input into a programmable chip so that the sensor can operate as a digital thermometer."
   ]
  },
  {
   "cell_type": "markdown",
   "metadata": {},
   "source": [
    "## Using numpy to fit a polynomial to a dataset"
   ]
  },
  {
   "cell_type": "markdown",
   "metadata": {},
   "source": [
    "The first thing we need to do is import the modules we'll need. Enter these in the code cell below"
   ]
  },
  {
   "cell_type": "code",
   "execution_count": 8,
   "metadata": {},
   "outputs": [],
   "source": [
    "import numpy as np\n",
    "import matplotlib.pyplot as plt\n",
    "% matplotlib inline"
   ]
  },
  {
   "cell_type": "markdown",
   "metadata": {},
   "source": [
    "Now we should load our data file, which is called \"studentdataE5.txt\". This data file contains two columns, the first is the temperature in Celsius, the second the measured voltage (V). \n",
    "\n",
    "\n",
    "<div class='alert alert-success'> \n",
    "In the code cell below:\n",
    "<ul>\n",
    "<li> Load the data file using np.loadtxt, and unpack it into two arrays called `temp` and `voltage`. </li>\n",
    "<li> Plot it on a (labelled!) graph, using data points only (no line). </li>\n",
    "</ul>\n",
    "\n",
    "</div>"
   ]
  },
  {
   "cell_type": "code",
   "execution_count": 9,
   "metadata": {},
   "outputs": [
    {
     "data": {
      "text/plain": [
       "<matplotlib.text.Text at 0x82adb00>"
      ]
     },
     "execution_count": 9,
     "metadata": {},
     "output_type": "execute_result"
    },
    {
     "data": {
      "image/png": "[encoded data removed]",
      "text/plain": [
       "<matplotlib.figure.Figure at 0x81a9ef0>"
      ]
     },
     "metadata": {},
     "output_type": "display_data"
    }
   ],
   "source": [
    "temp, voltage = np.loadtxt(\"studentdataE5.txt\", unpack = True)\n",
    "\n",
    "plt.plot(temp, voltage, 'ro')\n",
    "plt.title('Temperature against voltage for a temperature sensor')\n",
    "plt.xlabel('Temperature/$\\degree C$')\n",
    "plt.ylabel('Output voltage/V')"
   ]
  },
  {
   "cell_type": "markdown",
   "metadata": {},
   "source": [
    "### Numpy's polyfit function(s)\n",
    "\n",
    "Fortunately, we can get numpy to do all the hard work of fitting for us, by using the * **polyfit** * function. The documentation for this is here: http://docs.scipy.org/doc/numpy/reference/generated/numpy.polyfit.html - have a quick look at this before proceeding.\n",
    "\n",
    "The cell below shows an example usage of np.polyfit. To run it, change \"temp\" and \"voltage\" to whatever you are using as the relevant variable names."
   ]
  },
  {
   "cell_type": "code",
   "execution_count": 10,
   "metadata": {},
   "outputs": [
    {
     "name": "stdout",
     "output_type": "stream",
     "text": [
      "The fitted polynomial coefficients are [  1.06532357e-04  -3.15934839e-02   2.21148238e+00]\n"
     ]
    }
   ],
   "source": [
    "degree = 2 # degree of polynomial we want to fit to\n",
    "p = np.polyfit(temp,voltage,degree)\n",
    "print (\"The fitted polynomial coefficients are\", p)"
   ]
  },
  {
   "cell_type": "markdown",
   "metadata": {},
   "source": [
    "** * IMPORTANT NOTE: * ** Numpy actually has two versions of polyfit. `numpy.polyfit`, and  `numpy.polynomial.polynomial.polyfit`. They are almost identical, and are used in the same way. But look at the one crucial difference:"
   ]
  },
  {
   "cell_type": "code",
   "execution_count": 11,
   "metadata": {},
   "outputs": [
    {
     "name": "stdout",
     "output_type": "stream",
     "text": [
      "np.polyfit returns the coefficients as [  1.06532357e-04  -3.15934839e-02   2.21148238e+00]\n",
      "np.polynomial.polynomial.polyfit returns the coefficients as [  2.21148238e+00  -3.15934839e-02   1.06532357e-04]\n"
     ]
    }
   ],
   "source": [
    "p = np.polyfit(temp,voltage,degree)\n",
    "print (\"np.polyfit returns the coefficients as\", p)\n",
    "pp = np.polynomial.polynomial.polyfit(temp,voltage,degree)\n",
    "print (\"np.polynomial.polynomial.polyfit returns the coefficients as\", pp)"
   ]
  },
  {
   "cell_type": "markdown",
   "metadata": {},
   "source": [
    "`numpy.polyfit` (our `np.polyfit`) returns the coefficients with the highest power first, but `numpy.polynomial.polynomial.polyfit` returns the lowest power first. This is daft.\n",
    "  \n",
    "However, it is an important reminder of *why* we import our modules with named abbreviations - it makes it clear which version of which module function we're using!"
   ]
  },
  {
   "cell_type": "markdown",
   "metadata": {},
   "source": [
    "### Plotting fitted polynomials\n",
    "\n",
    "Now we have our polynomial coefficients, we probably want to plot this polynomial to see how good the fit is. We could construct an expresssion for this from the elements of p, but there's a much easier way to do this with the numpy function poly1d (http://docs.scipy.org/doc/numpy/reference/generated/numpy.poly1d.html ), which will convert the array of polynomial coefficients $p$ into a function that we can call to generate the value of the polynomial for a given value of $x$. The following code cell does this by using np.poly1d to create a _function_ called \"line\":"
   ]
  },
  {
   "cell_type": "code",
   "execution_count": 12,
   "metadata": {},
   "outputs": [],
   "source": [
    "line = np.poly1d(p)"
   ]
  },
  {
   "cell_type": "markdown",
   "metadata": {},
   "source": [
    "<div class='alert alert-success'> \n",
    "\n",
    "Now you need to:\n",
    "<ul>\n",
    "<li> Generate an array of x-values to fit the data to </li>\n",
    "<li> Use the \"line\" function we just created to generate a corresponding array of y-values.</li>\n",
    "<li> Plot the original data (as points) and the fitted line (as a line) on a labelled graph.</li>\n",
    "</ul>\n",
    "Do this in the cell below.\n",
    "</div>"
   ]
  },
  {
   "cell_type": "code",
   "execution_count": 13,
   "metadata": {},
   "outputs": [
    {
     "data": {
      "text/plain": [
       "<matplotlib.legend.Legend at 0x8349d30>"
      ]
     },
     "execution_count": 13,
     "metadata": {},
     "output_type": "execute_result"
    },
    {
     "data": {
      "image/png": "[encoded data removed]",
      "text/plain": [
       "<matplotlib.figure.Figure at 0x8163eb8>"
      ]
     },
     "metadata": {},
     "output_type": "display_data"
    }
   ],
   "source": [
    "### STUDENT GENERATED CELL ###\n",
    "\n",
    "x_plot = np.linspace(0,90,100)\n",
    "y_plot = line(x_plot)\n",
    "\n",
    "plt.plot(x_plot,y_plot, 'b-', label=\"Fitted polynomial\")\n",
    "plt.plot(temp, voltage, 'ro', label=\"Experimental data\")\n",
    "plt.title('Temperature against voltage for a temperature sensor')\n",
    "plt.xlabel('Temperature/$\\degree C$')\n",
    "plt.ylabel('Output voltage/V')\n",
    "plt.legend(loc=(0))"
   ]
  },
  {
   "cell_type": "markdown",
   "metadata": {},
   "source": [
    "At first glance, this second-order polynomial looks okayish (or it should do if you've done it right!) - but with definite room for improvement.\n",
    "\n",
    "But how good is the fit really?"
   ]
  },
  {
   "cell_type": "markdown",
   "metadata": {},
   "source": [
    "## Goodness of fit (1) - calculating the errors on the coefficients and the matrix of covariance."
   ]
  },
  {
   "cell_type": "markdown",
   "metadata": {},
   "source": [
    "We'll recalculate, this time with an important addition to the polyfit call - we'll ask it to also calculate the matrix of covariance.\n",
    "\n",
    "(A Python aside: In the cell below, there's also a line that limits the number of decimal places that are displayed when we print a numpy array. This is just for convenience - compare this with the arrays printed out at full precision above: which do you find easier to read? You can change the number of decimal points displayed to whatever you want. Note that this will affect _all_ arrays printed after this line is run, but won't affect the formatting of any other numbers, including array elements. See https://docs.scipy.org/doc/numpy/reference/generated/numpy.set_printoptions.html for full documentation of this function - we will be using it again in other sessions.)"
   ]
  },
  {
   "cell_type": "code",
   "execution_count": 14,
   "metadata": {},
   "outputs": [
    {
     "name": "stdout",
     "output_type": "stream",
     "text": [
      "The fitted polynomial coefficients are:\n",
      " [  1.06532357e-04  -3.15934839e-02   2.21148238e+00]\n",
      "The matrix of covariance is:\n",
      " [[  1.19249271e-10  -1.01361881e-08   1.55024053e-07]\n",
      " [ -1.01361881e-08   9.09657291e-07  -1.52205000e-05]\n",
      " [  1.55024053e-07  -1.52205000e-05   3.12719289e-04]]\n"
     ]
    }
   ],
   "source": [
    "# It's useful to limit the number of dp displayed for arrays - see above\n",
    "#np.set_printoptions(precision=4) # 4 dec.places\n",
    "\n",
    "# recalculating the polynomial\n",
    "degree = 2 # degree of polynomial we want to fit to\n",
    "p, v = np.polyfit(temp,voltage,degree,cov=True)\n",
    "print(\"The fitted polynomial coefficients are:\\n\", p)\n",
    "print(\"The matrix of covariance is:\\n\", v)"
   ]
  },
  {
   "cell_type": "markdown",
   "metadata": {},
   "source": [
    "#### What is the matrix of covariance?\n",
    "\n",
    "**The quick answer:** The matrix of covariance allows us to calculate the errors on our fitted parameters. For $n$ parameters, the matrix of covariance is an $n \\times n$ matrix, whose diagonal elements are the *square* of the uncertainties of the fitted parameters. The off-diagonal elements give the level of correlation between the uncertainties in the parameters - we won't use them here.\n",
    "\n",
    "**The long (and more complete answer)** is given in sections 7.2-7.4 of [Hughes and Hase](https://www.dawsonera.com/guard/protected/dawson.jsp?name=https://shib-idp.ucl.ac.uk/shibboleth&dest=http://www.dawsonera.com/depp/reader/protected/external/AbstractView/S9780191576560).\n",
    "\n",
    "\n",
    "\n",
    "\n",
    "When the cell below is complete, it will output the order of each coefficient, the corresponding coefficient and its error, with appropriate text strings.\n",
    "\n",
    "Look at how we do this:\n",
    "\n",
    "1. This is most easily done using a loop over the elements of `p`. For example, the length of an array `p` is given by `len(p)` or `np.size(p)`. The structure  `for i in range(np.size(p)):` sets up a loop that will iterate the same number of times as there are elements in the array.\n",
    "2. Remember that `np.polyfit` gives the coefficients largest-order first. So for a loop with increasing index i, the order of the coefficient `p(i)` will be given by `len(p)-i-1`.\n",
    "\n",
    "\n",
    "<div class='alert alert-success'>\n",
    "You will need to complete the final line of this cell to calculate the error of each coefficient.\n",
    "\n",
    "You'll probably want to use `np.diag` to extract the diagonal elements of the matrix of covariance, in the form of a 1d array. You can find out more about this numpy function here: http://docs.scipy.org/doc/numpy/reference/generated/numpy.diag.html <div>\n"
   ]
  },
  {
   "cell_type": "code",
   "execution_count": 15,
   "metadata": {},
   "outputs": [
    {
     "name": "stdout",
     "output_type": "stream",
     "text": [
      "coefficient order x^ 2  is  0.000106532356532  with error  1.09201314668e-05\n",
      "coefficient order x^ 1  is  -0.0315934839235  with error  0.000953759556164\n",
      "coefficient order x^ 0  is  2.21148237688  with error  0.0176838708696\n"
     ]
    }
   ],
   "source": [
    "### STUDENT COMPLETED CELL ###\n",
    "\n",
    "# extract coefficients and errors from matrix of covariance\n",
    "for i in range(np.size(p)):\n",
    "    print(\"coefficient order x^\", len(p)-i-1, \" is \", p[i], \" with error \", np.diag(v)[i]**0.5)"
   ]
  },
  {
   "cell_type": "markdown",
   "metadata": {},
   "source": [
    "#### An important caveat about the interpretation of these errors\n",
    "\n",
    "When doing calculations like this it's important to understand how the mathematics of the calculations relates to the reality of the experiment and the data. In this case we can see that the off-diagonal elements of `v` are clearly non-zero, and hence there is a significant correlation between the polynomial coefficients.\n",
    "\n",
    "The diagonal elements of the matrix of covariance can be used to find the uncertainty of a coefficient *IF THAT COEFFICIENT ALONE IS THE REQUIRED RESULT OF THE EXPERIMENT*; but when calculating any values based on the full set of coefficients (e.g. the value of the fit for a particular abscissa value) this can give a gross overestimate.  In advanced methods the full matrix is used, but at the undergraduate level some simplified approximation should be employed, such as taking just the covariance of the zero order coefficient.\n",
    "\n",
    "You should bear this in mind later in the term when you are doing experiment E5 yourselves. For the moment, however, as we are just concerning ourselves with the polynomial fitting itself, we'll continue to take the errors of the coefficients from the matrix of covariance.\n",
    "\n",
    "This issue will be explored in more detail next year in course PHAS3440 (Lab 3)."
   ]
  },
  {
   "cell_type": "markdown",
   "metadata": {},
   "source": [
    "## Goodness of fit (2) - calculating the residuals and $\\chi^2$"
   ]
  },
  {
   "cell_type": "markdown",
   "metadata": {},
   "source": [
    "Remember that the residuals are defined as the vertical distance between each of the data points and the fitted line. If the fitted line passes exactly through one of the data points the residual for this point is zero. We can see intuitively that if we have a \"good\" fit the residual values will be small. However, we have to remember that our experimental data points are subject to random errors and so we should expect the values of the residuals to be randomly distributed about zero. If we find that all the residuals are exactly zero we should start to suspect that our line is \"over-fitted\". This means it fits our initial data exactly, but if we take any more measurements (subject of course to the same random errors) the line will not fit them and therefore cannot be used to predict their values in advance. So for a useful parameterization of our dataset we need a fit which is \"good\" but not \"too good\". The chi-squared test is a statistical tool which can help us find the sort of fit we need. \n",
    "\n",
    "*Hint: For a guide that will enable you to use a numerical value of $\\chi^2$ to decide if your fit is \"good\", \"too good\", or \"not good\", look at the text box on page 107 of [Hughes and Hase](https://www.dawsonera.com/guard/protected/dawson.jsp?name=https://shib-idp.ucl.ac.uk/shibboleth&dest=http://www.dawsonera.com/depp/reader/protected/external/AbstractView/S9780191576560).*\n"
   ]
  },
  {
   "cell_type": "markdown",
   "metadata": {},
   "source": [
    "The numpy polyfit function calculates the residuals for us. We can also obtain more data from polyfit by setting full=True (but note that this is mutually exclusive with cov=True, you can only have one or the other). Again from the np.polyfit documentation:\n",
    "\n",
    "       \"residuals, rank, singular_values, rcond : present only if full = True\n",
    "            Residuals of the least-squares fit, the effective rank of the scaled Vandermonde coefficient matrix, \n",
    "            its singular values, and the specified value of rcond. For more details, see linalg.lstsq.\"\n",
    "            \n",
    "            \n",
    "(http://docs.scipy.org/doc/numpy/reference/generated/numpy.linalg.lstsq.html#numpy.linalg.lstsq)\n",
    "\n",
    "Let's look at what this gives us:\n",
    "      "
   ]
  },
  {
   "cell_type": "code",
   "execution_count": 16,
   "metadata": {},
   "outputs": [
    {
     "name": "stdout",
     "output_type": "stream",
     "text": [
      "p is: [  1.06532357e-04  -3.15934839e-02   2.21148238e+00]\n",
      "residuals array is: [ 0.01329027]\n",
      "rank is: 3\n",
      "singular_values is: [ 1.65694442  0.49738446  0.08452163]\n",
      "rcond is: 5.77315972805e-15\n"
     ]
    }
   ],
   "source": [
    "p, residuals, rank, singular_values, rcond = np.polyfit(temp,voltage,degree,full=True)\n",
    "\n",
    "print(\"p is:\", p)\n",
    "print(\"residuals array is:\", residuals)\n",
    "print(\"rank is:\", rank)\n",
    "print(\"singular_values is:\", singular_values)\n",
    "print(\"rcond is:\", rcond)"
   ]
  },
  {
   "cell_type": "markdown",
   "metadata": {},
   "source": [
    "Note that here \"residuals\" gives us the *sum* of the square of the residuals, not the individual residuals themselves, which is normally what we're interested in. But it's easy to calculate them, so normally it's more useful to have `cov=True` than `full=True`.\n",
    "\n",
    "To calculate the residuals, we just remember that the residuals are the vertical distance between the data point and the fitted line. \n",
    "\n",
    "<div class=\"alert alert-success\">\n",
    "Use the cell below to calculate and print out:\n",
    "<ul>\n",
    "<li> the residuals; </li> \n",
    "<li>  the squares of the residuals; and</li> \n",
    "<li>  the sum of the squares of the residuals.</li> \n",
    "</ul>\n",
    "</div>\n"
   ]
  },
  {
   "cell_type": "code",
   "execution_count": 17,
   "metadata": {
    "scrolled": true
   },
   "outputs": [
    {
     "name": "stdout",
     "output_type": "stream",
     "text": [
      "[-0.02318926 -0.01058554 -0.01006425 -0.00662537 -0.01526891  0.01100513\n",
      "  0.02119675  0.01630596  0.02233275  0.02627712  0.02613907  0.02191861\n",
      "  0.01561573  0.00423043 -0.00123729 -0.01178742 -0.01241998 -0.03513495\n",
      " -0.02593233 -0.02481214 -0.03077436 -0.029819   -0.01694606  0.00784447\n",
      "  0.02555258  0.05617827]\n",
      "0.0132902740415\n"
     ]
    }
   ],
   "source": [
    "line = np.poly1d(p)\n",
    "residuals = line(temp) -voltage\n",
    "print(residuals)\n",
    "print(np.sum(residuals**2))\n"
   ]
  },
  {
   "cell_type": "markdown",
   "metadata": {},
   "source": [
    "Check that your result for the sum of the squares of the residuals is the same as the same as the \"residuals\" generated by full=True.\n",
    "\n",
    "To take account of the random experimental errors affecting our data we can also divide the residuals by the error in the dependent variable (here the voltage is our \"y\" value), which for this experiment was estimated by the student as 0.006 V for all values (if the error is different for each measurement, we can just have a 1D-array for this instead of a single number). "
   ]
  },
  {
   "cell_type": "markdown",
   "metadata": {},
   "source": [
    "<div class=\"alert alert-success\">\n",
    "The student measured the error in the voltage to be 0.006 V for all the measured values.\n",
    "<br>\n",
    "In the cell below, repeat your calculations above, but using the residuals divided by the y-error rather than the residuals alone:\n",
    "</div>"
   ]
  },
  {
   "cell_type": "code",
   "execution_count": 18,
   "metadata": {},
   "outputs": [
    {
     "name": "stdout",
     "output_type": "stream",
     "text": [
      "[-3.86487586 -1.76425722 -1.67737485 -1.10422873 -2.54481888  1.83418803\n",
      "  3.53279202  2.71765975  3.72212454  4.37951974  4.35651201  3.65310134\n",
      "  2.60262108  0.70507123 -0.2062149  -1.96457061 -2.06999593 -5.85582418\n",
      " -4.32205535 -4.13535613 -5.12905983 -4.96983313 -2.82434269  1.30741148\n",
      "  4.25876272  9.36304436]\n",
      "369.174278931\n"
     ]
    }
   ],
   "source": [
    "residuals = line(temp) - voltage\n",
    "print(residuals/0.006)\n",
    "print(np.sum((residuals/0.006)**2))"
   ]
  },
  {
   "cell_type": "markdown",
   "metadata": {},
   "source": [
    "Dividing this by the number of degrees of freedom will give us the reduced $\\chi^2$. The number of degrees of freedom is defined as the total number of datapoints minus the number of coefficients or fitting parameters in the fitted equation."
   ]
  },
  {
   "cell_type": "markdown",
   "metadata": {},
   "source": [
    "<div class=\"alert alert-success\">\n",
    "In the cell below, calculate and output the number of degrees of freedom and the reduced $\\chi^2$.\n",
    "</div>"
   ]
  },
  {
   "cell_type": "code",
   "execution_count": 24,
   "metadata": {},
   "outputs": [
    {
     "name": "stdout",
     "output_type": "stream",
     "text": [
      "The reduced chi-squared value is: 0.83066677788\n"
     ]
    }
   ],
   "source": [
    "degrees_of_freedom = np.size(temp) - degree - 1 # - 1 since two degrees for the fit results in three coefficients\n",
    "print(\"The reduced chi-squared value is:\", residual_div_y_err_square_sum / degrees_of_freedom)"
   ]
  },
  {
   "cell_type": "markdown",
   "metadata": {},
   "source": [
    "The reduced $\\chi^2$ is useful as it gives us a single number with which we can compare the goodness of fit of different polynomials.\n",
    "\n",
    "Now we have everything in place, let's try comparing different polynomials. "
   ]
  },
  {
   "cell_type": "markdown",
   "metadata": {},
   "source": [
    "<div class=\"alert alert-success\">\n",
    "Write code in the code cell below that will calculate the best fit polynomials of order 1,2,3,4,5 and 6. For each of these:<ul>\n",
    "\n",
    "<li>  Print out the coefficients, with their order, and error </li>\n",
    "<li>  Calculate and output the number of degrees of freedom and the reduced $\\chi^2$ </li>\n",
    "    </ul>\n",
    "</div>"
   ]
  },
  {
   "cell_type": "markdown",
   "metadata": {},
   "source": [
    "**Hints:** \n",
    "* the most efficient way of doing this is with a loop structure\n",
    "* The residuals are the vertical distance between the fitted line and the data point - so you'll need to recalculate the residuals for each fitted line\n",
    "* The `line` function we generated was specific to those values of `p`. So each time the array of polynomial coefficients `p` changes, you'll also need to redefine this function."
   ]
  },
  {
   "cell_type": "code",
   "execution_count": 21,
   "metadata": {},
   "outputs": [
    {
     "name": "stdout",
     "output_type": "stream",
     "text": [
      "The fitted polynomial coefficients are [-0.02253823  2.07299031]\n",
      "coefficient order x^ 1  is  -0.0225382336182  with error  0.000503879579881 or -2.24 percent\n",
      "coefficient order x^ 0  is  2.07299031339  with error  0.0242307930996 or 1.17 percent\n",
      "The sum of the squares of the residuals is:  2042.26493827\n",
      "24\n",
      "For a polynomial of degree 1 the reduced chi-squared value is: 85.094372428\n",
      "\n",
      "The fitted polynomial coefficients are [  1.06532357e-04  -3.15934839e-02   2.21148238e+00]\n",
      "coefficient order x^ 2  is  0.000106532356532  with error  1.09201314668e-05 or 10.25 percent\n",
      "coefficient order x^ 1  is  -0.0315934839235  with error  0.000953759556164 or -3.02 percent\n",
      "coefficient order x^ 0  is  2.21148237688  with error  0.0176838708696 or 0.80 percent\n",
      "The sum of the squares of the residuals is:  369.174278931\n",
      "23\n",
      "For a polynomial of degree 2 the reduced chi-squared value is: 16.0510556057\n",
      "\n",
      "The fitted polynomial coefficients are [  2.21566963e-06  -1.75965521e-04  -2.16023649e-02   2.12703434e+00]\n",
      "coefficient order x^ 3  is  2.21566962641e-06  with error  2.81071505362e-07 or 12.69 percent\n",
      "coefficient order x^ 2  is  -0.000175965520835  with error  3.62594847896e-05 or -20.61 percent\n",
      "coefficient order x^ 1  is  -0.0216023648771  with error  0.00135608083525 or -6.28 percent\n",
      "coefficient order x^ 0  is  2.12703434474  with error  0.0139539473574 or 0.66 percent\n",
      "The sum of the squares of the residuals is:  89.8882362543\n",
      "22\n",
      "For a polynomial of degree 3 the reduced chi-squared value is: 4.08582892065\n",
      "\n",
      "The fitted polynomial coefficients are [ -5.58434702e-08   1.17090596e-05  -7.08831892e-04  -1.06035945e-02\n",
      "   2.06459209e+00]\n",
      "coefficient order x^ 4  is  -5.58434702474e-08  with error  7.50776417746e-09 or -13.44 percent\n",
      "coefficient order x^ 3  is  1.17090595685e-05  with error  1.28462085636e-06 or 10.97 percent\n",
      "coefficient order x^ 2  is  -0.000708831891574  with error  7.40681788176e-05 or -10.45 percent\n",
      "coefficient order x^ 1  is  -0.01060359453  with error  0.00163750314025 or -15.44 percent\n",
      "coefficient order x^ 0  is  2.06459209094  with error  0.0110846512308 or 0.54 percent\n",
      "The sum of the squares of the residuals is:  22.9784091055\n",
      "21\n",
      "For a polynomial of degree 4 the reduced chi-squared value is: 1.0942099574\n",
      "\n",
      "The fitted polynomial coefficients are [ -6.54415854e-10   8.32198988e-08   9.83183718e-07  -3.46015562e-04\n",
      "  -1.57003122e-02   2.08628442e+00]\n",
      "coefficient order x^ 5  is  -6.54415854223e-10  with error  3.70219624033e-10 or -56.57 percent\n",
      "coefficient order x^ 4  is  8.32198987751e-08  with error  7.89932228295e-08 or 94.92 percent\n",
      "coefficient order x^ 3  is  9.83183717744e-07  with error  6.18899718684e-06 or 629.49 percent\n",
      "coefficient order x^ 2  is  -0.000346015561794  with error  0.000216941710762 or -62.70 percent\n",
      "coefficient order x^ 1  is  -0.0157003121593  with error  0.00327496582085 or -20.86 percent\n",
      "coefficient order x^ 0  is  2.086284419  with error  0.0161589498766 or 0.77 percent\n",
      "The sum of the squares of the residuals is:  19.5796447412\n",
      "20\n",
      "For a polynomial of degree 5 the reduced chi-squared value is: 0.978982237061\n",
      "\n",
      "The fitted polynomial coefficients are [  1.28398343e-11  -3.92857361e-09   4.04875258e-07  -1.42719110e-05\n",
      "   1.12042522e-05  -1.94404802e-02   2.09906236e+00]\n",
      "coefficient order x^ 6  is  1.28398343418e-11  with error  1.97643113402e-11 or 153.93 percent\n",
      "coefficient order x^ 5  is  -3.92857361139e-09  with error  5.05392870573e-09 or -128.65 percent\n",
      "coefficient order x^ 4  is  4.04875257903e-07  with error  5.01591136846e-07 or 123.89 percent\n",
      "coefficient order x^ 3  is  -1.42719110081e-05  with error  2.43101625958e-05 or -170.34 percent\n",
      "coefficient order x^ 2  is  1.12042521725e-05  with error  0.000592434740454 or 5287.59 percent\n",
      "coefficient order x^ 1  is  -0.0194404801948  with error  0.00665032871931 or -34.21 percent\n",
      "coefficient order x^ 0  is  2.09906236021  with error  0.0256250830979 or 1.22 percent\n",
      "The sum of the squares of the residuals is:  19.1053358912\n",
      "19\n",
      "For a polynomial of degree 6 the reduced chi-squared value is: 1.00554399428\n",
      "\n",
      "The chi-squared values for degree 1-6 are: [85.094372427983572, 16.051055605693204, 4.0858289206490079, 1.0942099574033739, 0.97898223706069165, 1.005543994275784]\n"
     ]
    }
   ],
   "source": [
    "chi_squareds = [None]*6\n",
    "\n",
    "for i in range(1,7):\n",
    "    coefficients,v = np.polyfit(temp,voltage,i,cov=True)\n",
    "    print (\"The fitted polynomial coefficients are\", coefficients)\n",
    "    line = np.poly1d(coefficients)\n",
    "    \n",
    "    y_calculated = line(temp) # generates fitted y-values for each x-value\n",
    "\n",
    "    # extract coefficients and errors from matrix of covariance\n",
    "    for i in range(np.size(coefficients)):\n",
    "        print(\"coefficient order x^\", len(coefficients)-i-1, \" is \", coefficients[i], \" with error \", np.diag(v)[i]**0.5, \"or %.2f percent\"%(np.diag(v)[i]**0.5/coefficients[i]*100))\n",
    "    \n",
    "    # calculates the sum of the residuals\n",
    "    residual_div_y_err_square_sum = 0\n",
    "\n",
    "    for j in range(np.size(temp)):\n",
    "        y_residual = y_calculated[j]-voltage[j]\n",
    "        residual_div_y_err_square_sum += (y_residual/0.006)**2\n",
    "\n",
    "    print(\"The sum of the squares of the residuals is: \", residual_div_y_err_square_sum)\n",
    "    \n",
    "    degrees_of_freedom = np.size(temp) - i - 1# - 1 since two degrees for the fit results in three coefficients\n",
    "    print(degrees_of_freedom)\n",
    "    print(\"For a polynomial of degree\",i ,\"the reduced chi-squared value is:\", residual_div_y_err_square_sum / degrees_of_freedom)\n",
    "    chi_squareds[i-1]=residual_div_y_err_square_sum / degrees_of_freedom\n",
    "    print()\n",
    "print(\"The chi-squared values for degree 1-6 are:\", chi_squareds)"
   ]
  },
  {
   "cell_type": "markdown",
   "metadata": {},
   "source": [
    "<div class=\"alert alert-success\"> Which order of fitted polynomial would you use to parameterize the relationship between voltage and temperature for this sensor? <br> \n",
    "Give the reasons for your choice in a text cell. <br> Then plot the fitted line for the polynomial you think best represents the data, together with the original data, on a labelled graph</div>\n",
    "\n"
   ]
  },
  {
   "cell_type": "markdown",
   "metadata": {},
   "source": [
    "We want the $\\chi^2$ value to be approximately one, but we also want to minimise the uncertainty of our coefficeints. As demonstrated above, these two constraints are best satisfied when we use polynomials of degree 4, which is plotted below."
   ]
  },
  {
   "cell_type": "code",
   "execution_count": 22,
   "metadata": {},
   "outputs": [
    {
     "data": {
      "text/plain": [
       "<matplotlib.legend.Legend at 0x83eb8d0>"
      ]
     },
     "execution_count": 22,
     "metadata": {},
     "output_type": "execute_result"
    },
    {
     "data": {
      "image/png": "[encoded data removed]",
      "text/plain": [
       "<matplotlib.figure.Figure at 0x81a6c50>"
      ]
     },
     "metadata": {},
     "output_type": "display_data"
    }
   ],
   "source": [
    "p = np.polyfit(temp,voltage,4)\n",
    "line = np.poly1d(p)\n",
    "x_max = np.amax(temp)\n",
    "x_min = np.amin(temp)\n",
    "interval = (x_max - x_min)/len(temp)\n",
    "\n",
    "x_plot = np.linspace(x_min-interval,x_max+interval,len(temp))\n",
    "y_plot = line(x_plot)\n",
    "\n",
    "plt.plot(x_plot,y_plot, 'b-', label=\"Fitted polynomial\")\n",
    "plt.plot(temp, voltage, 'ro', label=\"Our data\")\n",
    "plt.title('Temperature against voltage for a temperature sensor')\n",
    "plt.xlabel('Temperature/$\\degree C$')\n",
    "plt.ylabel('Output voltage/V')\n",
    "plt.legend(loc=0)"
   ]
  },
  {
   "cell_type": "markdown",
   "metadata": {},
   "source": [
    "## Fitting the residuals to a Gaussian"
   ]
  },
  {
   "cell_type": "markdown",
   "metadata": {},
   "source": [
    "It would be interesting to have a closer look at the residuals. In theory, they should follow a Gaussian (normal) distribution. Do they?\n",
    "\n",
    "Fit the residuals to a Gaussian using scipy.stats (following the same process as we did in session 2), and plot them as a histogram together with the fitted Gaussian."
   ]
  },
  {
   "cell_type": "markdown",
   "metadata": {},
   "source": [
    "<div class=\"alert alert-success\">Do you think that these residuals match the expected distribution?\n",
    "What relation do you notice between the width of the Gaussian and the experimental error on the voltage reading estimated by the student who did this experiment? Explain in a text cell.</div>"
   ]
  },
  {
   "cell_type": "code",
   "execution_count": 23,
   "metadata": {},
   "outputs": [
    {
     "name": "stdout",
     "output_type": "stream",
     "text": [
      "The fitted polynomial coefficients are [ -5.58434702e-08   1.17090596e-05  -7.08831892e-04  -1.06035945e-02\n",
      "   2.06459209e+00]\n",
      "Fitted Gaussian: \n",
      " Mean value  -9.39419482375e-17 with standard deviation 0.00514330069151\n"
     ]
    },
    {
     "data": {
      "text/plain": [
       "<matplotlib.text.Text at 0x9507550>"
      ]
     },
     "execution_count": 23,
     "metadata": {},
     "output_type": "execute_result"
    },
    {
     "data": {
      "image/png": "[encoded data removed]",
      "text/plain": [
       "<matplotlib.figure.Figure at 0x941edd8>"
      ]
     },
     "metadata": {},
     "output_type": "display_data"
    }
   ],
   "source": [
    "residuals = [None]*np.size(temp)\n",
    "p,v = np.polyfit(temp,voltage,4,cov=True)\n",
    "print (\"The fitted polynomial coefficients are\", p)\n",
    "line = np.poly1d(coefficients)\n",
    "\n",
    "y_calculated = line(temp) # generates fitted y-values for each x-value\n",
    "\n",
    "# calculates the the residuals\n",
    "\n",
    "for i in range(np.size(temp)):\n",
    "    residuals[i] = y_calculated[i]-voltage[i]\n",
    "\n",
    "plt.hist(residuals,normed=True,alpha=0.25,label=\"residuals\")\n",
    "plt.xlabel(\"value\")\n",
    "plt.ylabel(\"number of occurences\")\n",
    "\n",
    "# fits the residuals to a gaussian\n",
    "import scipy.stats as stats\n",
    "\n",
    "x0, sigma = stats.norm.fit(residuals)\n",
    "print (\"Fitted Gaussian: \\n Mean value \", x0, \"with standard deviation\", sigma)\n",
    "\n",
    "# plot the gaussian\n",
    "x = np.linspace(-0.02,0.02,1000)\n",
    "plt.xlim([-0.02,0.02]) # sets x limits\n",
    "gaussian = stats.norm.pdf(x,x0,sigma)\n",
    "plt.plot(x,gaussian,'r-', label=\"gaussian\")\n",
    "plt.legend(loc=0),\n",
    "plt.title(\"Distribution of the residuals of y\")"
   ]
  },
  {
   "cell_type": "markdown",
   "metadata": {},
   "source": [
    "The residuals broadly follow a Gaussian distribution, but skews slightly negative. The Gaussian has width approximately equal to the experimental uncertainty, which makes sense, as we would expect the majority of the values of a given measurement to fall within range of this uncertainty."
   ]
  },
  {
   "cell_type": "markdown",
   "metadata": {},
   "source": [
    "### What's coming next"
   ]
  },
  {
   "cell_type": "markdown",
   "metadata": {},
   "source": [
    "In this session we've seen how to fit data in a general case when we don't already know from a theoretical model what function we want to fit to. In the next session, we'll be looking at how to to use Python fit a line when we know what function we want to fit the data to."
   ]
  },
  {
   "cell_type": "code",
   "execution_count": null,
   "metadata": {},
   "outputs": [],
   "source": []
  },
  {
   "cell_type": "code",
   "execution_count": null,
   "metadata": {
    "collapsed": true
   },
   "outputs": [],
   "source": []
  }
 ],
 "metadata": {
  "anaconda-cloud": {},
  "kernelspec": {
   "display_name": "Python 3",
   "language": "python",
   "name": "python3"
  },
  "language_info": {
   "codemirror_mode": {
    "name": "ipython",
    "version": 3
   },
   "file_extension": ".py",
   "mimetype": "text/x-python",
   "name": "python",
   "nbconvert_exporter": "python",
   "pygments_lexer": "ipython3",
   "version": "3.7.4"
  }
 },
 "nbformat": 4,
 "nbformat_minor": 1
}
