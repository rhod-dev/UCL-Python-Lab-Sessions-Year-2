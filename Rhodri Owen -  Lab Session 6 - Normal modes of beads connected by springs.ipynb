{
 "cells": [
  {
   "cell_type": "markdown",
   "metadata": {},
   "source": [
    "# PHAS2441 Session 6 Task:\n",
    "# Normal modes of beads connected by springs"
   ]
  },
  {
   "cell_type": "markdown",
   "metadata": {},
   "source": [
    "You are going to calculate the normal modes of vibration of a system of $N$ beads connected by $N+1$ Hookean springs to fixed end points. The beads are able to move horizontally but not vertically. This provides us with a basic but useful model of vibrations in a solid, where the beads represent atoms and the springs the interatomic bonds."
   ]
  },
  {
   "cell_type": "code",
   "execution_count": 1,
   "metadata": {
    "scrolled": true
   },
   "outputs": [
    {
     "data": {
      "image/png": "[encoded data removed]",
      "text/plain": [
       "<IPython.core.display.Image object>"
      ]
     },
     "execution_count": 1,
     "metadata": {},
     "output_type": "execute_result"
    }
   ],
   "source": [
    "from IPython.display import Image # needed to embed an image\n",
    "Image(filename='3springs2beads.png', embed=True)\n",
    "# This image file is on Moodle. \n",
    "# It will appear here if you downloaded the image and it's in the same folder as this notebook!"
   ]
  },
  {
   "cell_type": "markdown",
   "metadata": {},
   "source": [
    "First consider a system of just two beads, labelled 1 and 2, connected by three springs with spring constants $k_1$, $k_2$, $k_3$ to two fixed end points, as in the figure above. The displacement of each bead from its equilibrium position is given by $x_1$ and $x_2$, as shown. By considering each spring individually, we can see that the forces exerted by the springs are:\n",
    "\n",
    "** Spring 1** exerts a force $-k_1 x_1$ on bead 1.\n",
    "\n",
    "** Spring 2** exerts a force $-k_2(x_1 - x_2)$ on bead 1 and a force $-k_2(x_2 - x_1)$ on bead 2.\n",
    "\n",
    "** Spring 3** exerts a force $-k_3 x_2$ on bead 2."
   ]
  },
  {
   "cell_type": "markdown",
   "metadata": {},
   "source": [
    "We can then write the total forces on the beads in the form of a matrix equation:\n",
    "\n",
    "$$\n",
    "\\mathbf{F} =-\\mathbf{K}\\cdot \\mathbf{x} = -\\begin{pmatrix}\n",
    "    k_1 + k_2 & -k_2 \\\\\n",
    "    -k_2 & k_2 + k_3 \n",
    "  \\end{pmatrix}\n",
    "  \\begin{pmatrix}\n",
    "   x_1 \\\\ x_2 \\end{pmatrix}\n",
    "$$"
   ]
  },
  {
   "cell_type": "markdown",
   "metadata": {},
   "source": [
    "This can easily be extended to a system of $N$ beads with $N+1$ springs, which gives us a [tridiagonal](http://en.wikipedia.org/wiki/Tridiagonal_matrix) matrix for the spring constants $k_i$:\n",
    "\n",
    "$$ \\mathbf{K} = \n",
    "\\begin{pmatrix}\n",
    "k_1 + k_2 & -k_2 & 0 &  & \\ldots &  0  \\\\\n",
    "-k_2 & k_2 + k_3 & -k_3 & & \\ldots &0 \\\\\n",
    " 0 & -k_3 & k_3 + k_4 & -k_4 & \\ldots & 0 \\\\\n",
    "\\vdots &  & \\ddots & & & \\vdots \\\\\n",
    "0 & 0 & \\ldots &  & -k_N & k_N + k_{N+1} \\\\\n",
    "\\end{pmatrix}\n",
    "$$"
   ]
  },
  {
   "cell_type": "markdown",
   "metadata": {},
   "source": [
    "We also know that for a harmonic oscillator, the spring constants are related to the angular frequency by\n",
    "\n",
    "$$ k = m \\omega^2 $$\n",
    "\n",
    "and hence when we represent this in matrix form, we have\n",
    "\n",
    "$$ -\\mathbf{K}\\mathbf{x} = -m \\omega^2\\mathbf{x} $$\n",
    "\n",
    "which is an eigenvalue equation of the form $\\mathbf{A} \\mathbf{x} = \\lambda \\mathbf{x}$, where the eigenvectors of the matrix $\\mathbf{K}$ will give us the bead displacements for the normal modes of vibration, and the eigenvalues the angular frequency of that mode."
   ]
  },
  {
   "cell_type": "markdown",
   "metadata": {},
   "source": [
    "## Your task:"
   ]
  },
  {
   "cell_type": "markdown",
   "metadata": {},
   "source": [
    "Complete this notebook by doing the following.\n",
    "    \n",
    "### 1. Construct the matrix $\\mathbf{K}$. \n",
    "* *Hint 1a:* It may be easier to construct a one-dimensional vector of $k_i$ and then use the [np.diag](http://docs.scipy.org/doc/numpy/reference/generated/numpy.diag.html) function to construct the diagonal and off-diagonal elements of $\\mathbf{K}$ separately. \n",
    "* *Hint 1b:* Look at the documentation for `np.diag` in the link above and note the optional argument `k` - this will help you construct the off-diagonal elements.\n",
    "* *Hint 2:* It will be easier to debug this if you start with a small value of $N$, less than 5 or so.\n",
    "* *Useful to know:* `np.set_printoptions` will allow you to pretty-print matrices on the screen, which is useful when you are testing and debugging. Try `np.set_printoptions(threshold=2000, linewidth=110,suppress=True)  `, which should work well for matrices when N<=25. Adjust the linewidth if you go above this and still want to view the whole matrix (may not work so well on smaller screens).\n",
    "      \n",
    "### 2. Find the eigenvalues and eigenvectors of $\\mathbf{K}$.\n",
    "* *Useful to know:* you may want to reset your `np.set_printoptions` in this cell, if you set it above. A good setting to try here is: `np.set_printoptions(threshold=100, precision=4)` - can you see what effect the \"precision\" setting has?\n",
    "\n",
    "\n",
    "### 3. Calculate the angular frequency $\\omega$ of each normal mode, and plot it as a function of the mode number.\n",
    "* *Hint:* The first mode has mode number 1, not 0. You'll need to create a separate x-array going from 1 to N+1 to use to plot the array of angular frequencies correctly.\n",
    "\n",
    "### 4. Plot the bead displacements as a function of bead number for each of the three lowest normal modes.\n",
    "* *Useful to know:* <tt>plt.axhline(c='k',ls=':',lw=0.5)</tt> will plot a fine black dotted line at the zero-y-axis"
   ]
  },
  {
   "cell_type": "markdown",
   "metadata": {},
   "source": [
    "In the first instance, calculate for a system of 25 identical beads with mass $m=1$ and identical springs each with spring constant $k_i = 1$ (_Yet another hint: [np.ones()](https://docs.scipy.org/doc/numpy/reference/generated/numpy.ones.html)_ )\n",
    "\n",
    "Once you are satisfied that your solution is correct, rerun the notebook for a system of 25 identical beads connected by springs which each have a spring constant $k_i = i$, (_where \"i\" is the integer index of the array, NOT $\\sqrt{-1}$!_) **This is the version that will be graded**.\n",
    "\n",
    "If you have time (for interest, not graded), try calculating for a system where the strength of the springs alternate between weak and strong, or any other configuration you like!\n",
    "\n",
    "Remember to use text cells to describe the maths/physics of what you're doing, and code comments to annotate the code."
   ]
  },
  {
   "cell_type": "markdown",
   "metadata": {},
   "source": [
    "## Your solution goes here:\n",
    "\n",
    "\n",
    "Add text and code cells below to complete the task"
   ]
  },
  {
   "cell_type": "markdown",
   "metadata": {
    "collapsed": true
   },
   "source": [
    "First we import the modules we need to do calculations with matrices, numpy and linear algebra, and to plot graphs:"
   ]
  },
  {
   "cell_type": "code",
   "execution_count": 2,
   "metadata": {},
   "outputs": [],
   "source": [
    "import numpy as np\n",
    "import numpy.linalg as la\n",
    "import matplotlib.pyplot as plt\n",
    "%matplotlib inline\n",
    "\n",
    "np.set_printoptions(threshold=2000, linewidth=110,suppress=True)"
   ]
  },
  {
   "cell_type": "markdown",
   "metadata": {},
   "source": [
    "Then we set the dimension of the matrix we want to use, i.e. the number of beads we have. From this we generate the array of spring constants (in this case, ones) and a corresponding matrix, and populate the matrix with values."
   ]
  },
  {
   "cell_type": "code",
   "execution_count": 9,
   "metadata": {
    "scrolled": false
   },
   "outputs": [
    {
     "name": "stdout",
     "output_type": "stream",
     "text": [
      "[[  3  -2   0 ...,   0   0   0]\n",
      " [ -2   5  -3 ...,   0   0   0]\n",
      " [  0  -3   7 ...,   0   0   0]\n",
      " ..., \n",
      " [  0   0   0 ...,  49 -25   0]\n",
      " [  0   0   0 ..., -25  51 -26]\n",
      " [  0   0   0 ...,   0 -26  53]]\n"
     ]
    }
   ],
   "source": [
    "N = 25 # set the number of beads\n",
    "k = np.arange(1,N+2,1) # define the array of spring constants\n",
    "#k = np.ones(N+1)\n",
    "k_diag = -k[1:N+1]\n",
    "\n",
    "matrixk = np.diag(k) + np.diag(k+1) + np.diag(k_diag,1) + np.diag(k_diag,-1)\n",
    "\n",
    "print(matrixk)"
   ]
  },
  {
   "cell_type": "markdown",
   "metadata": {},
   "source": [
    "We then calculate the eigenvalues and eigenvectors for the matrix, to 4dp."
   ]
  },
  {
   "cell_type": "code",
   "execution_count": 10,
   "metadata": {},
   "outputs": [
    {
     "name": "stdout",
     "output_type": "stream",
     "text": [
      "has eigenvalues \n",
      " [  0.1125   0.4719   1.0646   1.8755   2.8868   4.0831   5.457    7.0129   8.763   10.7205  12.8971  15.3037\n",
      "  17.9526  20.8579  24.0367  27.5096  31.3021  35.4457  39.9807  44.9599  50.4542  56.5641  63.4405  71.3318\n",
      "  80.7128  92.8026]\n",
      "and corresponding eigenvectors\n",
      " [[-0.1485 -0.2769  0.3799 ..., -0.     -0.     -0.    ]\n",
      " [-0.2144 -0.35    0.3676 ...,  0.      0.      0.    ]\n",
      " [-0.2503 -0.3437  0.229  ..., -0.     -0.     -0.    ]\n",
      " ..., \n",
      " [-0.0421  0.0835  0.1201 ..., -0.146  -0.0755  0.5422]\n",
      " [-0.0276  0.0554  0.0813 ..., -0.2206  0.3547 -0.5462]\n",
      " [-0.0136  0.0274  0.0407 ...,  0.3128 -0.3327  0.3568]]\n"
     ]
    }
   ],
   "source": [
    "np.set_printoptions(threshold=100, precision=4)\n",
    "\n",
    "eigval, eigvec = la.eigh(matrixk)\n",
    "print(\"has eigenvalues \\n\", eigval)\n",
    "print(\"and corresponding eigenvectors\\n\", eigvec)"
   ]
  },
  {
   "cell_type": "markdown",
   "metadata": {},
   "source": [
    "These eigenvalues correspond to the values of $m\\omega^2$; since m=1 we can take the square root to find $\\omega$"
   ]
  },
  {
   "cell_type": "code",
   "execution_count": 11,
   "metadata": {},
   "outputs": [
    {
     "name": "stdout",
     "output_type": "stream",
     "text": [
      "The angluar frequencies are: [ 0.3355  0.687   1.0318  1.3695  1.6991  2.0207  2.336   2.6482  2.9602  3.2742  3.5913  3.912   4.237   4.567\n",
      "  4.9027  5.245   5.5948  5.9536  6.323   6.7052  7.1031  7.5209  7.965   8.4458  8.984   9.6334]\n"
     ]
    }
   ],
   "source": [
    "frequency = np.sqrt(eigval)\n",
    "print(\"The angluar frequencies are:\", frequency)"
   ]
  },
  {
   "cell_type": "markdown",
   "metadata": {},
   "source": [
    "We then plot angular frequency against the mode of vibration using matplotlib."
   ]
  },
  {
   "cell_type": "code",
   "execution_count": 12,
   "metadata": {},
   "outputs": [
    {
     "data": {
      "text/plain": [
       "<matplotlib.text.Text at 0x8afd160>"
      ]
     },
     "execution_count": 12,
     "metadata": {},
     "output_type": "execute_result"
    },
    {
     "data": {
      "image/png": "[encoded data removed]",
      "text/plain": [
       "<matplotlib.figure.Figure at 0x85eaac8>"
      ]
     },
     "metadata": {},
     "output_type": "display_data"
    }
   ],
   "source": [
    "modes = np.arange(1,N+2,1)\n",
    "\n",
    "plt.plot(modes,frequency, 'bo', label=\"Frequency varying with mode of oscillation\")\n",
    "plt.title('Frequency against mode of oscillation')\n",
    "plt.xlim(0,N+2)\n",
    "plt.xlabel(\"Mode of vibration\")\n",
    "plt.ylabel(\"Frequency/$rad~s^{-1}$\")"
   ]
  },
  {
   "cell_type": "markdown",
   "metadata": {
    "collapsed": true
   },
   "source": [
    "The displacement of the beads is given by the eigenvector of the matrix, so we can plot the eigenvector against the mode number."
   ]
  },
  {
   "cell_type": "code",
   "execution_count": 17,
   "metadata": {},
   "outputs": [
    {
     "data": {
      "text/plain": [
       "<matplotlib.legend.Legend at 0x2631128>"
      ]
     },
     "execution_count": 17,
     "metadata": {},
     "output_type": "execute_result"
    },
    {
     "data": {
      "image/png": "[encoded data removed]",
      "text/plain": [
       "<matplotlib.figure.Figure at 0x2370a90>"
      ]
     },
     "metadata": {},
     "output_type": "display_data"
    }
   ],
   "source": [
    "for i in range(3):\n",
    "    plt.plot(modes,eigvec[:,i], 'o-', label=\"Mode {}\".format(i+1))\n",
    "#plt.plot(modes,eigvec, 'bo', label=\"Displacement against mode of vibration\")\n",
    "plt.axhline(c='k',ls=':',lw=0.5) # Creates a dashed line at zero displacement\n",
    "plt.title('Displacement against mode of oscillation')\n",
    "plt.xlim(1,25)\n",
    "plt.xlabel(\"Bead number\")\n",
    "plt.ylabel(\"Displacement/m\")\n",
    "plt.legend(loc=0)"
   ]
  },
  {
   "cell_type": "markdown",
   "metadata": {},
   "source": [
    "This is a standing wave modelling atoms in a one-dimensional solid."
   ]
  },
  {
   "cell_type": "code",
   "execution_count": null,
   "metadata": {},
   "outputs": [],
   "source": []
  },
  {
   "cell_type": "code",
   "execution_count": null,
   "metadata": {
    "collapsed": true
   },
   "outputs": [],
   "source": []
  }
 ],
 "metadata": {
  "anaconda-cloud": {},
  "kernelspec": {
   "display_name": "Python 3",
   "language": "python",
   "name": "python3"
  },
  "language_info": {
   "codemirror_mode": {
    "name": "ipython",
    "version": 3
   },
   "file_extension": ".py",
   "mimetype": "text/x-python",
   "name": "python",
   "nbconvert_exporter": "python",
   "pygments_lexer": "ipython3",
   "version": "3.7.4"
  }
 },
 "nbformat": 4,
 "nbformat_minor": 1
}
